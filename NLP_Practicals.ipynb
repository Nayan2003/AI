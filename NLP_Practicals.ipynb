{
  "nbformat": 4,
  "nbformat_minor": 0,
  "metadata": {
    "colab": {
      "provenance": [],
      "toc_visible": true,
      "mount_file_id": "1WC5rl8BV-rcxO6pxDLppHigrVHZKiUWJ",
      "authorship_tag": "ABX9TyMi3B1dgMVfvDkTuSBMZGml",
      "include_colab_link": true
    },
    "kernelspec": {
      "name": "python3",
      "display_name": "Python 3"
    },
    "language_info": {
      "name": "python"
    }
  },
  "cells": [
    {
      "cell_type": "markdown",
      "metadata": {
        "id": "view-in-github",
        "colab_type": "text"
      },
      "source": [
        "<a href=\"https://colab.research.google.com/github/Nayan2003/AI/blob/main/NLP_Practicals.ipynb\" target=\"_parent\"><img src=\"https://colab.research.google.com/assets/colab-badge.svg\" alt=\"Open In Colab\"/></a>"
      ]
    },
    {
      "cell_type": "code",
      "source": [
        "import csv"
      ],
      "metadata": {
        "id": "v1-AkqyKhl6b"
      },
      "execution_count": 20,
      "outputs": []
    },
    {
      "cell_type": "code",
      "source": [
        "with open(\"/content/TestLarge.csv\", mode='r') as csv_file:\n",
        "    csv_read = csv.reader(csv_file)\n",
        "    headers = next(csv_read)\n",
        "    csv_data = list(csv_read)"
      ],
      "metadata": {
        "id": "-qBqrtMqho5U"
      },
      "execution_count": 21,
      "outputs": []
    },
    {
      "cell_type": "code",
      "source": [
        "for row in csv_data:\n",
        "  print(row)"
      ],
      "metadata": {
        "colab": {
          "base_uri": "https://localhost:8080/"
        },
        "id": "PUzw97Ihho8D",
        "outputId": "5684ecbf-f4e2-4322-8a71-3346b3238011"
      },
      "execution_count": 23,
      "outputs": [
        {
          "output_type": "stream",
          "name": "stdout",
          "text": [
            "['\"I love this product! It works great.\"', 'Positive']\n",
            "['\"This is the worst purchase I\\'ve ever made.\"', 'Negative']\n",
            "['\"Highly satisfied with my experience.\"', 'Positive']\n",
            "['\"I wouldn\\'t recommend this to anyone.\"', 'Negative']\n",
            "['\"Decent quality, but not what I expected.\"', 'Negative']\n",
            "['\"Absolutely fantastic! Will buy again.\"', 'Positive']\n",
            "['\"Not what I expected, very disappointing.\"', 'Negative']\n",
            "['\"Excellent value for the price!\"', 'Positive']\n",
            "['\"I\\'ll definitely buy this again!\"', 'Positive']\n",
            "['\"This product broke after one use.\"', 'Negative']\n",
            "['\"Very pleased with the results!\"', 'Positive']\n",
            "['\"Awful experience, never buying from here again.\"', 'Negative']\n",
            "['\"Works like a charm, very happy!\"', 'Positive']\n",
            "['\"Too expensive for the quality offered.\"', 'Negative']\n",
            "['\"Great customer service and fast shipping!\"', 'Positive']\n",
            "['\"One of the best purchases I’ve made!\"', 'Positive']\n",
            "['\"Terrible quality, I want a refund.\"', 'Negative']\n",
            "['\"Surprisingly good, I wasn\\'t expecting much.\"', 'Positive']\n",
            "['\"Very bad experience, won\\'t recommend.\"', 'Negative']\n",
            "['\"Superb quality and fast delivery!\"', 'Positive']\n",
            "['\"This item did not match the description.\"', 'Negative']\n",
            "['\"Absolutely love it! Highly recommend.\"', 'Positive']\n",
            "['\"Disappointed with the performance.\"', 'Negative']\n",
            "['\"Such a great find, I\\'m impressed!\"', 'Positive']\n",
            "['\"Not worth the hype.\"', 'Negative']\n",
            "['\"Perfect for my needs, I\\'m very satisfied.\"', 'Positive']\n",
            "['\"This is a total scam.\"', 'Negative']\n",
            "['\"I will never buy this again.\"', 'Negative']\n",
            "['\"Outstanding product, worth every penny!\"', 'Positive']\n",
            "['\"Received it damaged, very upset.\"', 'Negative']\n",
            "['\"I can\\'t believe how good this is!\"', 'Positive']\n",
            "['\"Would not recommend to anyone.\"', 'Negative']\n",
            "['\"Such a great experience overall!\"', 'Positive']\n",
            "['\"Product didn\\'t work as advertised.\"', 'Negative']\n",
            "['\"Very useful and easy to use.\"', 'Positive']\n",
            "['\"Terrible customer support.\"', 'Negative']\n",
            "['\"Best purchase of the year!\"', 'Positive']\n",
            "['\"Absolutely unacceptable quality.\"', 'Negative']\n",
            "['\"Love the design and functionality!\"', 'Positive']\n",
            "['\"Will not buy again due to bad experience.\"', 'Negative']\n",
            "['\"Highly recommend to everyone!\"', 'Positive']\n",
            "['\"This product is a waste of money.\"', 'Negative']\n",
            "['\"Very impressed with the durability.\"', 'Positive']\n",
            "['\"Poor performance, extremely disappointed.\"', 'Negative']\n",
            "['\"Wonderful product, I\\'m so happy!\"', 'Positive']\n",
            "['\"Not satisfied at all.\"', 'Negative']\n",
            "['\"Great investment for anyone!\"', 'Positive']\n",
            "['\"Would not buy this again.\"', 'Negative']\n",
            "['\"Fantastic value, very happy!\"', 'Positive']\n",
            "['\"Never using this product again.\"', 'Negative']\n",
            "['\"Impressive quality and performance!\"', 'Positive']\n",
            "['\"Wouldn\\'t recommend this to a friend.\"', 'Negative']\n",
            "['\"Such a lifesaver!\"', 'Positive']\n",
            "['\"Completely useless.\"', 'Negative']\n",
            "['\"I\\'ll keep coming back for more!\"', 'Positive']\n",
            "['\"Very unsatisfied with my purchase.\"', 'Negative']\n",
            "['\"Top-notch quality and service!\"', 'Positive']\n",
            "['\"Too many issues, very frustrating.\"', 'Negative']\n",
            "['\"Absolutely amazing! Love it!\"', 'Positive']\n",
            "['\"This is a nightmare.\"', 'Negative']\n",
            "['\"Perfect for what I needed!\"', 'Positive']\n",
            "['\"Not worth the hassle.\"', 'Negative']\n",
            "['\"Exceptional product, highly recommend!\"', 'Positive']\n",
            "['\"Very unhappy with the results.\"', 'Negative']\n",
            "['\"Exactly what I was looking for!\"', 'Positive']\n",
            "['\"Terrible quality, would not buy again.\"', 'Negative']\n",
            "['\"Absolutely the best!\"', 'Positive']\n",
            "['\"Extremely disappointing, do not buy.\"', 'Negative']\n",
            "['\"Great for the price!\"', 'Positive']\n",
            "['\"Never again, a complete letdown.\"', 'Negative']\n",
            "['\"Superb product, very effective!\"', 'Positive']\n",
            "['\"Would not recommend, poor quality.\"', 'Negative']\n",
            "['\"Excellent performance, I\\'m thrilled!\"', 'Positive']\n",
            "['\"This is not what I expected.\"', 'Negative']\n",
            "['\"Very happy with my purchase!\"', 'Positive']\n",
            "['\"Really bad experience, avoid this.\"', 'Negative']\n",
            "['\"Great addition to my collection!\"', 'Positive']\n",
            "['\"Disappointed, not what I thought it would be.\"', 'Negative']\n",
            "['\"Highly recommend for everyone!\"', 'Positive']\n",
            "['\"Very unsatisfactory purchase.\"', 'Negative']\n",
            "['\"Absolutely worth it!\"', 'Positive']\n",
            "['\"Will not buy from this seller again.\"', 'Negative']\n",
            "['\"Amazing quality for the price.\"', 'Positive']\n",
            "['\"I regret buying this product.\"', 'Negative']\n",
            "['\"Very satisfied with my choice.\"', 'Positive']\n",
            "['\"This was a total failure.\"', 'Negative']\n",
            "['\"Fantastic product! Exceeded my expectations.\"', 'Positive']\n",
            "['\"The product didn\\'t last long at all.\"', 'Negative']\n",
            "['\"Truly a great experience shopping here!\"', 'Positive']\n",
            "['\"Not worth the time or money.\"', 'Negative']\n",
            "['\"I love how this works!\"', 'Positive']\n",
            "['\"So disappointed with this purchase.\"', 'Negative']\n",
            "['\"Exceptional value, I\\'ll recommend it to friends!\"', 'Positive']\n",
            "['\"The product arrived late and was damaged.\"', 'Negative']\n",
            "['\"I am impressed with the performance.\"', 'Positive']\n",
            "['\"Never buying from this brand again.\"', 'Negative']\n",
            "['\"Perfect for my needs, absolutely love it!\"', 'Positive']\n",
            "['\"Very poor quality, waste of money.\"', 'Negative']\n",
            "['\"This product is just fantastic!\"', 'Positive']\n",
            "['\"It malfunctioned after a week.\"', 'Negative']\n",
            "['\"I’m happy with the results!\"', 'Positive']\n",
            "['\"Not worth it, very disappointing.\"', 'Negative']\n",
            "['\"Incredible product! Highly recommended!\"', 'Positive']\n",
            "['\"I was let down by this purchase.\"', 'Negative']\n",
            "['\"This is a game changer!\"', 'Positive']\n",
            "['\"The service was terrible.\"', 'Negative']\n",
            "['\"Very happy with my decision to buy this.\"', 'Positive']\n",
            "['\"Does not work as advertised.\"', 'Negative']\n",
            "['\"I\\'m thoroughly impressed with the quality.\"', 'Positive']\n",
            "['\"Extremely disappointing, won\\'t be back.\"', 'Negative']\n",
            "['\"This is just what I needed!\"', 'Positive']\n",
            "['\"Awful, I would not recommend.\"', 'Negative']\n",
            "['\"Best investment I\\'ve made in a long time!\"', 'Positive']\n",
            "['\"It broke within the first week.\"', 'Negative']\n",
            "['\"Impressive product, will purchase again!\"', 'Positive']\n",
            "['\"Not good, would not buy again.\"', 'Negative']\n",
            "['\"Absolutely thrilled with my purchase!\"', 'Positive']\n",
            "['\"Very bad quality, a total waste.\"', 'Negative']\n",
            "['\"Fantastic service and great product!\"', 'Positive']\n",
            "['\"I had high hopes, but it didn\\'t deliver.\"', 'Negative']\n",
            "['\"Incredible quality, worth every penny!\"', 'Positive']\n",
            "['\"Never again, I feel cheated.\"', 'Negative']\n",
            "['\"This works wonders, I\\'m so glad I bought it!\"', 'Positive']\n",
            "['\"Really poor experience overall.\"', 'Negative']\n",
            "['\"Love it! Will definitely recommend to others!\"', 'Positive']\n",
            "['\"This product is a total disappointment.\"', 'Negative']\n",
            "['\"Great functionality, exactly what I wanted!\"', 'Positive']\n",
            "['\"Terrible experience, I will not return.\"', 'Negative']\n",
            "['\"This is just awesome!\"', 'Positive']\n",
            "['\"Very low quality, I\\'m unhappy.\"', 'Negative']\n",
            "['\"Satisfactory results, would buy again.\"', 'Positive']\n",
            "['\"It\\'s just not worth it.\"', 'Negative']\n",
            "['\"So happy with my decision to purchase!\"', 'Positive']\n",
            "['\"I will never buy from this company again.\"', 'Negative']\n",
            "['\"A fantastic item, works beautifully!\"', 'Positive']\n",
            "['\"I was really looking forward to this, but it\\'s terrible.\"', 'Negative']\n",
            "['\"Amazing product, my life is easier now!\"', 'Positive']\n",
            "['\"Did not meet my expectations at all.\"', 'Negative']\n",
            "['\"I am very pleased with this!\"', 'Positive']\n",
            "['\"Would not recommend, very poor quality.\"', 'Negative']\n",
            "['\"This product exceeded my expectations!\"', 'Positive']\n",
            "['\"Very frustrating experience.\"', 'Negative']\n",
            "['\"Highly recommend this to everyone!\"', 'Positive']\n",
            "['\"What a waste of money!\"', 'Negative']\n",
            "['\"Fantastic quality, will be back for more!\"', 'Positive']\n",
            "['\"Very disappointing experience.\"', 'Negative']\n",
            "['\"Incredible service, highly impressed!\"', 'Positive']\n",
            "['\"This was a huge letdown for me.\"', 'Negative']\n",
            "['\"Really good value for the price.\"', 'Positive']\n",
            "['\"This was a bad choice for me.\"', 'Negative']\n",
            "['\"Love this product! Works just as described.\"', 'Positive']\n",
            "['\"Waste of space and money.\"', 'Negative']\n",
            "['\"So good, I’ll tell my friends!\"', 'Positive']\n",
            "['\"Not as expected, very underwhelming.\"', 'Negative']\n",
            "['\"Fantastic quality, I’m really impressed!\"', 'Positive']\n",
            "['\"Extremely disappointed in the purchase.\"', 'Negative']\n",
            "['\"A real gem! Love it!\"', 'Positive']\n",
            "['\"Terrible customer service.\"', 'Negative']\n",
            "['\"Really happy with how this turned out.\"', 'Positive']\n",
            "['\"It broke after one week of use.\"', 'Negative']\n",
            "['\"I highly recommend this product!\"', 'Positive']\n",
            "['\"Awful, wouldn\\'t buy again.\"', 'Negative']\n",
            "['\"Great product for the price!\"', 'Positive']\n",
            "['\"This was a poor investment.\"', 'Negative']\n",
            "['\"I couldn\\'t be happier with my purchase!\"', 'Positive']\n",
            "['\"Very unhappy with the overall quality.\"', 'Negative']\n",
            "['\"Incredible product, will definitely buy again!\"', 'Positive']\n",
            "['\"Horrible experience, do not recommend.\"', 'Negative']\n",
            "['\"Fantastic results, I\\'m very satisfied!\"', 'Positive']\n",
            "['\"Very low quality, do not buy.\"', 'Negative']\n",
            "['\"So impressed with this purchase!\"', 'Positive']\n",
            "['\"This was a complete mistake.\"', 'Negative']\n",
            "['\"Great value for money!\"', 'Positive']\n",
            "['\"Very disappointing product.\"', 'Negative']\n",
            "['\"Exceptional quality and service!\"', 'Positive']\n",
            "['\"This did not live up to the hype.\"', 'Negative']\n",
            "['\"Absolutely love it! Will buy again!\"', 'Positive']\n",
            "['\"Worst purchase ever!\"', 'Negative']\n",
            "['\"I\\'m really happy with this!\"', 'Positive']\n",
            "['\"I wish I hadn\\'t bought this.\"', 'Negative']\n",
            "['\"This is fantastic, thank you!\"', 'Positive']\n",
            "['\"Really terrible experience overall.\"', 'Negative']\n",
            "['\"I would recommend this to my friends.\"', 'Positive']\n",
            "['\"Very poor performance.\"', 'Negative']\n",
            "['\"Great addition to my life!\"', 'Positive']\n",
            "['\"I\\'m extremely dissatisfied.\"', 'Negative']\n",
            "['\"The best product I\\'ve tried!\"', 'Positive']\n",
            "['\"This was a big mistake.\"', 'Negative']\n"
          ]
        }
      ]
    },
    {
      "cell_type": "code",
      "source": [],
      "metadata": {
        "id": "VbNcJhzOho-s"
      },
      "execution_count": null,
      "outputs": []
    },
    {
      "cell_type": "code",
      "source": [],
      "metadata": {
        "id": "dlJhMoOPhpCD"
      },
      "execution_count": null,
      "outputs": []
    },
    {
      "cell_type": "markdown",
      "source": [
        "# Practical 1"
      ],
      "metadata": {
        "id": "fNuJOTkMiMYH"
      }
    },
    {
      "cell_type": "code",
      "execution_count": 1,
      "metadata": {
        "id": "twFBZy36rq8N"
      },
      "outputs": [],
      "source": [
        "import nltk"
      ]
    },
    {
      "cell_type": "code",
      "source": [
        "nltk.download('punkt')"
      ],
      "metadata": {
        "colab": {
          "base_uri": "https://localhost:8080/"
        },
        "id": "6gSLQUrYrs9S",
        "outputId": "1a8f2b37-879d-458d-ff0d-ce5b66a707ff"
      },
      "execution_count": 2,
      "outputs": [
        {
          "output_type": "stream",
          "name": "stderr",
          "text": [
            "[nltk_data] Downloading package punkt to /root/nltk_data...\n",
            "[nltk_data]   Unzipping tokenizers/punkt.zip.\n"
          ]
        },
        {
          "output_type": "execute_result",
          "data": {
            "text/plain": [
              "True"
            ]
          },
          "metadata": {},
          "execution_count": 2
        }
      ]
    },
    {
      "cell_type": "code",
      "source": [
        "nltk.download('punkt_tab')"
      ],
      "metadata": {
        "colab": {
          "base_uri": "https://localhost:8080/"
        },
        "id": "1bnVfKYXrwSV",
        "outputId": "fb925afe-e680-4b19-a42a-de2b4e2cfe93"
      },
      "execution_count": 3,
      "outputs": [
        {
          "output_type": "stream",
          "name": "stderr",
          "text": [
            "[nltk_data] Downloading package punkt_tab to /root/nltk_data...\n",
            "[nltk_data]   Unzipping tokenizers/punkt_tab.zip.\n"
          ]
        },
        {
          "output_type": "execute_result",
          "data": {
            "text/plain": [
              "True"
            ]
          },
          "metadata": {},
          "execution_count": 3
        }
      ]
    },
    {
      "cell_type": "code",
      "source": [
        "input_text = \"Hello strudent's ! i am nayan here , came late to class today. cause i had taffic problem sir\""
      ],
      "metadata": {
        "id": "0-ga1b0Wr0td"
      },
      "execution_count": 14,
      "outputs": []
    },
    {
      "cell_type": "code",
      "source": [
        "def segment_and_tokenize(text):\n",
        "  sentences = nltk.sent_tokenize(text)#segmentation\n",
        "  tokenize = [nltk.word_tokenize(sentence) for sentence in sentences] #word tokennizeon\n",
        "  return sentences,tokenize"
      ],
      "metadata": {
        "id": "GE9Gh5QksLWb"
      },
      "execution_count": 15,
      "outputs": []
    },
    {
      "cell_type": "code",
      "source": [
        "sentence_segments,word_tokenize = segment_and_tokenize(input_text)\n"
      ],
      "metadata": {
        "id": "1RfFmKDksvsX"
      },
      "execution_count": 16,
      "outputs": []
    },
    {
      "cell_type": "code",
      "source": [
        "print(\"sentence segments\")\n",
        "for sent in sentence_segments:\n",
        "  print(sent)"
      ],
      "metadata": {
        "colab": {
          "base_uri": "https://localhost:8080/"
        },
        "id": "94KCwQfqs6A7",
        "outputId": "61f12195-d6bf-4c7a-e4eb-dbeca2c5b567"
      },
      "execution_count": 17,
      "outputs": [
        {
          "output_type": "stream",
          "name": "stdout",
          "text": [
            "sentence segments\n",
            "Hello strudent's !\n",
            "i am nayan here , came late to class today.\n",
            "cause i had taffic problem sir\n"
          ]
        }
      ]
    },
    {
      "cell_type": "code",
      "source": [
        "print(\"word_tokens\")\n",
        "for token in word_tokenize:\n",
        "  print(token)"
      ],
      "metadata": {
        "colab": {
          "base_uri": "https://localhost:8080/"
        },
        "id": "hvz4-_0atAtD",
        "outputId": "dd7a2893-8430-4aa1-b8ac-101ecea49c6e"
      },
      "execution_count": 18,
      "outputs": [
        {
          "output_type": "stream",
          "name": "stdout",
          "text": [
            "word_tokens\n",
            "['Hello', 'strudent', \"'s\", '!']\n",
            "['i', 'am', 'nayan', 'here', ',', 'came', 'late', 'to', 'class', 'today', '.']\n",
            "['cause', 'i', 'had', 'taffic', 'problem', 'sir']\n"
          ]
        }
      ]
    },
    {
      "cell_type": "code",
      "source": [
        "#How does punkt  word tokenize handle punctuations as a token?"
      ],
      "metadata": {
        "id": "vC7fdoxhtKGc"
      },
      "execution_count": 19,
      "outputs": []
    },
    {
      "cell_type": "code",
      "source": [],
      "metadata": {
        "id": "W2omy4dz0c8v"
      },
      "execution_count": null,
      "outputs": []
    }
  ]
}